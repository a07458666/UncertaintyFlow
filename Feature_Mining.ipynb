{
 "cells": [
  {
   "cell_type": "code",
   "execution_count": 75,
   "id": "limiting-combat",
   "metadata": {},
   "outputs": [],
   "source": [
    "from trainer import UncertaintyTrainer\n",
    "import os\n",
    "import numpy as np\n",
    "import pandas\n",
    "import torch\n",
    "from module.config import loadConfig, showConfig\n",
    "import matplotlib.pyplot as plt\n",
    "from PIL import Image\n",
    "%matplotlib inline\n",
    "from torchvision import transforms\n",
    "from module.utils import accuracy\n",
    "from sklearn.manifold import TSNE\n",
    "from module.config import checkOutputDirectoryAndCreate\n",
    "gpu = \"1\"\n",
    "os.environ['CUDA_VISIBLE_DEVICES'] = gpu\n",
    "# legend_items = list(range(0, 10))\n",
    "\n",
    "legend_items = ['airplane','automobile','bird','cat','deer','dog','frog','horse','ship', 'truck']\n",
    "config_path = \"./result/cifar_noise_sym05_ssl_reg_blur_b128/config.yaml\"\n",
    "\n",
    "epoch = 199\n",
    "invTrans = transforms.Compose([ transforms.Normalize(mean = [ 0., 0., 0. ],\n",
    "                                                     std = [ 1/0.229, 1/0.224, 1/0.225 ]),\n",
    "                                transforms.Normalize(mean = [ -0.485, -0.456, -0.406 ],\n",
    "                                                     std = [ 1., 1., 1. ]),\n",
    "                               ])"
   ]
  },
  {
   "cell_type": "code",
   "execution_count": 53,
   "id": "numerous-bradford",
   "metadata": {},
   "outputs": [
    {
     "name": "stdout",
     "output_type": "stream",
     "text": [
      "Files already downloaded and verified\n",
      "Files already downloaded and verified\n",
      "Training T : 1.0\n",
      "Number of trainable parameters of Point CNF: 61265\n"
     ]
    }
   ],
   "source": [
    "device = torch.device(\"cuda\" if torch.cuda.is_available() and gpu != \"-1\" else \"cpu\")\n",
    "config = loadConfig(config_path)\n",
    "config['noise_type'] = \"none\"\n",
    "trainer = UncertaintyTrainer(config, device)\n",
    "checkOutputDirectoryAndCreate(f'{config[\"output_folder\"]}/img')\n",
    "\n",
    "model_path = f'result/{config[\"output_folder\"]}/flow_{str(epoch).zfill(2)}.pt'\n",
    "encoder_path = f'result/{config[\"output_folder\"]}/encoder_{str(epoch).zfill(2)}.pt'\n",
    "trainer.load(model_path)\n",
    "trainer.load_encoder(encoder_path)\n",
    "\n"
   ]
  },
  {
   "cell_type": "code",
   "execution_count": 54,
   "id": "english-friendly",
   "metadata": {},
   "outputs": [
    {
     "name": "stderr",
     "output_type": "stream",
     "text": [
      "78it [00:08,  9.20it/s]"
     ]
    },
    {
     "name": "stdout",
     "output_type": "stream",
     "text": [
      "acc top1:  81.76081848144531  top2 :  90.47476196289062\n"
     ]
    },
    {
     "name": "stderr",
     "output_type": "stream",
     "text": [
      "\n"
     ]
    }
   ],
   "source": [
    "MC_sample = 1\n",
    "mean = 0\n",
    "std = 0\n",
    "\n",
    "probs_val, target_val, _, probs_all_val, condition_feature_val  = trainer.sampling(trainer.val_loader, MC_sample, mean, std)\n",
    "acc_list = accuracy(probs_val,  target_val, topk=(1,2))\n",
    "acc_top1 = acc_list[0].cpu().item()\n",
    "acc_top2 = acc_list[1].cpu().item()\n",
    "print(\"acc top1: \", acc_top1, \" top2 : \", acc_top2)"
   ]
  },
  {
   "cell_type": "code",
   "execution_count": 58,
   "id": "everyday-gates",
   "metadata": {},
   "outputs": [
    {
     "name": "stdout",
     "output_type": "stream",
     "text": [
      "[t-SNE] Computing 91 nearest neighbors...\n",
      "[t-SNE] Indexed 9984 samples in 0.003s...\n",
      "[t-SNE] Computed neighbors for 9984 samples in 2.409s...\n",
      "[t-SNE] Computed conditional probabilities for sample 1000 / 9984\n",
      "[t-SNE] Computed conditional probabilities for sample 2000 / 9984\n",
      "[t-SNE] Computed conditional probabilities for sample 3000 / 9984\n",
      "[t-SNE] Computed conditional probabilities for sample 4000 / 9984\n",
      "[t-SNE] Computed conditional probabilities for sample 5000 / 9984\n",
      "[t-SNE] Computed conditional probabilities for sample 6000 / 9984\n",
      "[t-SNE] Computed conditional probabilities for sample 7000 / 9984\n",
      "[t-SNE] Computed conditional probabilities for sample 8000 / 9984\n",
      "[t-SNE] Computed conditional probabilities for sample 9000 / 9984\n",
      "[t-SNE] Computed conditional probabilities for sample 9984 / 9984\n",
      "[t-SNE] Mean sigma: 1.461608\n",
      "[t-SNE] KL divergence after 250 iterations with early exaggeration: 82.836823\n",
      "[t-SNE] KL divergence after 1000 iterations: 1.567081\n"
     ]
    }
   ],
   "source": [
    "X_embedded = TSNE(n_components=2, verbose=1, init='random').fit_transform(x.numpy())"
   ]
  },
  {
   "cell_type": "code",
   "execution_count": 50,
   "id": "defined-yugoslavia",
   "metadata": {},
   "outputs": [],
   "source": [
    "import seaborn as sns\n",
    "import matplotlib.patheffects as PathEffects\n",
    "\n",
    "sns.set_style('darkgrid')\n",
    "sns.set_palette('muted')\n",
    "sns.set_context(\"notebook\", font_scale=1.5,\n",
    "                rc={\"lines.linewidth\": 2.5})\n",
    "\n",
    "def scatter(x, colors):\n",
    "    # We choose a color palette with seaborn.\n",
    "    palette = np.array(sns.color_palette(\"hls\", 10))\n",
    "\n",
    "    # We create a scatter plot.\n",
    "    f = plt.figure(figsize=(8, 8))\n",
    "    ax = plt.subplot(aspect='equal')\n",
    "    sc = ax.scatter(x[:,0], x[:,1], lw=0, s=40,\n",
    "                    c=palette[colors.astype(np.int)])\n",
    "    plt.xlim(-25, 25)\n",
    "    plt.ylim(-25, 25)\n",
    "    ax.axis('off')\n",
    "    ax.axis('tight')\n",
    "\n",
    "    # We add the labels for each digit.\n",
    "    txts = []\n",
    "    for i in range(10):\n",
    "        # Position of each label.\n",
    "        xtext, ytext = np.median(x[colors == i, :], axis=0)\n",
    "        txt = ax.text(xtext, ytext, legend_items[i], fontsize=24)\n",
    "        txt.set_path_effects([\n",
    "            PathEffects.Stroke(linewidth=5, foreground=\"w\"),\n",
    "            PathEffects.Normal()])\n",
    "        txts.append(txt)\n",
    "\n",
    "    return f, ax, sc, txts"
   ]
  },
  {
   "cell_type": "code",
   "execution_count": null,
   "id": "gothic-colombia",
   "metadata": {},
   "outputs": [
    {
     "name": "stderr",
     "output_type": "stream",
     "text": [
      "78it [00:06, 12.55it/s]\n"
     ]
    },
    {
     "name": "stdout",
     "output_type": "stream",
     "text": [
      "[t-SNE] Computing 91 nearest neighbors...\n",
      "[t-SNE] Indexed 9984 samples in 0.001s...\n",
      "[t-SNE] Computed neighbors for 9984 samples in 2.769s...\n",
      "[t-SNE] Computed conditional probabilities for sample 1000 / 9984\n",
      "[t-SNE] Computed conditional probabilities for sample 2000 / 9984\n",
      "[t-SNE] Computed conditional probabilities for sample 3000 / 9984\n",
      "[t-SNE] Computed conditional probabilities for sample 4000 / 9984\n",
      "[t-SNE] Computed conditional probabilities for sample 5000 / 9984\n",
      "[t-SNE] Computed conditional probabilities for sample 6000 / 9984\n",
      "[t-SNE] Computed conditional probabilities for sample 7000 / 9984\n",
      "[t-SNE] Computed conditional probabilities for sample 8000 / 9984\n",
      "[t-SNE] Computed conditional probabilities for sample 9000 / 9984\n",
      "[t-SNE] Computed conditional probabilities for sample 9984 / 9984\n",
      "[t-SNE] Mean sigma: 1.039951\n",
      "[t-SNE] KL divergence after 250 iterations with early exaggeration: 87.744255\n",
      "[t-SNE] KL divergence after 1000 iterations: 1.955247\n"
     ]
    },
    {
     "name": "stderr",
     "output_type": "stream",
     "text": [
      "78it [00:06, 12.30it/s]\n"
     ]
    },
    {
     "name": "stdout",
     "output_type": "stream",
     "text": [
      "[t-SNE] Computing 91 nearest neighbors...\n",
      "[t-SNE] Indexed 9984 samples in 0.001s...\n",
      "[t-SNE] Computed neighbors for 9984 samples in 2.733s...\n",
      "[t-SNE] Computed conditional probabilities for sample 1000 / 9984\n",
      "[t-SNE] Computed conditional probabilities for sample 2000 / 9984\n",
      "[t-SNE] Computed conditional probabilities for sample 3000 / 9984\n",
      "[t-SNE] Computed conditional probabilities for sample 4000 / 9984\n",
      "[t-SNE] Computed conditional probabilities for sample 5000 / 9984\n",
      "[t-SNE] Computed conditional probabilities for sample 6000 / 9984\n",
      "[t-SNE] Computed conditional probabilities for sample 7000 / 9984\n",
      "[t-SNE] Computed conditional probabilities for sample 8000 / 9984\n",
      "[t-SNE] Computed conditional probabilities for sample 9000 / 9984\n",
      "[t-SNE] Computed conditional probabilities for sample 9984 / 9984\n",
      "[t-SNE] Mean sigma: 2.455336\n",
      "[t-SNE] KL divergence after 250 iterations with early exaggeration: 89.325874\n",
      "[t-SNE] KL divergence after 1000 iterations: 2.067517\n"
     ]
    },
    {
     "name": "stderr",
     "output_type": "stream",
     "text": [
      "78it [00:06, 12.29it/s]\n"
     ]
    },
    {
     "name": "stdout",
     "output_type": "stream",
     "text": [
      "[t-SNE] Computing 91 nearest neighbors...\n",
      "[t-SNE] Indexed 9984 samples in 0.001s...\n",
      "[t-SNE] Computed neighbors for 9984 samples in 2.520s...\n",
      "[t-SNE] Computed conditional probabilities for sample 1000 / 9984\n",
      "[t-SNE] Computed conditional probabilities for sample 2000 / 9984\n",
      "[t-SNE] Computed conditional probabilities for sample 3000 / 9984\n",
      "[t-SNE] Computed conditional probabilities for sample 4000 / 9984\n",
      "[t-SNE] Computed conditional probabilities for sample 5000 / 9984\n",
      "[t-SNE] Computed conditional probabilities for sample 6000 / 9984\n",
      "[t-SNE] Computed conditional probabilities for sample 7000 / 9984\n",
      "[t-SNE] Computed conditional probabilities for sample 8000 / 9984\n",
      "[t-SNE] Computed conditional probabilities for sample 9000 / 9984\n",
      "[t-SNE] Computed conditional probabilities for sample 9984 / 9984\n",
      "[t-SNE] Mean sigma: 2.583240\n",
      "[t-SNE] KL divergence after 250 iterations with early exaggeration: 87.584709\n",
      "[t-SNE] KL divergence after 1000 iterations: 1.929818\n"
     ]
    },
    {
     "name": "stderr",
     "output_type": "stream",
     "text": [
      "78it [00:06, 12.16it/s]\n"
     ]
    },
    {
     "name": "stdout",
     "output_type": "stream",
     "text": [
      "[t-SNE] Computing 91 nearest neighbors...\n",
      "[t-SNE] Indexed 9984 samples in 0.001s...\n",
      "[t-SNE] Computed neighbors for 9984 samples in 2.798s...\n",
      "[t-SNE] Computed conditional probabilities for sample 1000 / 9984\n",
      "[t-SNE] Computed conditional probabilities for sample 2000 / 9984\n",
      "[t-SNE] Computed conditional probabilities for sample 3000 / 9984\n",
      "[t-SNE] Computed conditional probabilities for sample 4000 / 9984\n",
      "[t-SNE] Computed conditional probabilities for sample 5000 / 9984\n",
      "[t-SNE] Computed conditional probabilities for sample 6000 / 9984\n",
      "[t-SNE] Computed conditional probabilities for sample 7000 / 9984\n",
      "[t-SNE] Computed conditional probabilities for sample 8000 / 9984\n",
      "[t-SNE] Computed conditional probabilities for sample 9000 / 9984\n",
      "[t-SNE] Computed conditional probabilities for sample 9984 / 9984\n",
      "[t-SNE] Mean sigma: 2.570089\n",
      "[t-SNE] KL divergence after 250 iterations with early exaggeration: 86.762512\n",
      "[t-SNE] KL divergence after 1000 iterations: 1.855352\n"
     ]
    },
    {
     "name": "stderr",
     "output_type": "stream",
     "text": [
      "78it [00:06, 12.34it/s]\n"
     ]
    },
    {
     "name": "stdout",
     "output_type": "stream",
     "text": [
      "[t-SNE] Computing 91 nearest neighbors...\n",
      "[t-SNE] Indexed 9984 samples in 0.001s...\n",
      "[t-SNE] Computed neighbors for 9984 samples in 2.407s...\n",
      "[t-SNE] Computed conditional probabilities for sample 1000 / 9984\n",
      "[t-SNE] Computed conditional probabilities for sample 2000 / 9984\n",
      "[t-SNE] Computed conditional probabilities for sample 3000 / 9984\n",
      "[t-SNE] Computed conditional probabilities for sample 4000 / 9984\n",
      "[t-SNE] Computed conditional probabilities for sample 5000 / 9984\n",
      "[t-SNE] Computed conditional probabilities for sample 6000 / 9984\n",
      "[t-SNE] Computed conditional probabilities for sample 7000 / 9984\n",
      "[t-SNE] Computed conditional probabilities for sample 8000 / 9984\n",
      "[t-SNE] Computed conditional probabilities for sample 9000 / 9984\n",
      "[t-SNE] Computed conditional probabilities for sample 9984 / 9984\n",
      "[t-SNE] Mean sigma: 2.472223\n",
      "[t-SNE] KL divergence after 250 iterations with early exaggeration: 85.994240\n",
      "[t-SNE] KL divergence after 1000 iterations: 1.791903\n"
     ]
    },
    {
     "name": "stderr",
     "output_type": "stream",
     "text": [
      "78it [00:06, 12.36it/s]\n"
     ]
    },
    {
     "name": "stdout",
     "output_type": "stream",
     "text": [
      "[t-SNE] Computing 91 nearest neighbors...\n",
      "[t-SNE] Indexed 9984 samples in 0.001s...\n",
      "[t-SNE] Computed neighbors for 9984 samples in 2.331s...\n",
      "[t-SNE] Computed conditional probabilities for sample 1000 / 9984\n",
      "[t-SNE] Computed conditional probabilities for sample 2000 / 9984\n",
      "[t-SNE] Computed conditional probabilities for sample 3000 / 9984\n",
      "[t-SNE] Computed conditional probabilities for sample 4000 / 9984\n",
      "[t-SNE] Computed conditional probabilities for sample 5000 / 9984\n",
      "[t-SNE] Computed conditional probabilities for sample 6000 / 9984\n",
      "[t-SNE] Computed conditional probabilities for sample 7000 / 9984\n",
      "[t-SNE] Computed conditional probabilities for sample 8000 / 9984\n",
      "[t-SNE] Computed conditional probabilities for sample 9000 / 9984\n",
      "[t-SNE] Computed conditional probabilities for sample 9984 / 9984\n",
      "[t-SNE] Mean sigma: 2.361923\n",
      "[t-SNE] KL divergence after 250 iterations with early exaggeration: 85.427002\n",
      "[t-SNE] KL divergence after 1000 iterations: 1.758790\n"
     ]
    },
    {
     "name": "stderr",
     "output_type": "stream",
     "text": [
      "78it [00:06, 12.11it/s]\n"
     ]
    },
    {
     "name": "stdout",
     "output_type": "stream",
     "text": [
      "[t-SNE] Computing 91 nearest neighbors...\n",
      "[t-SNE] Indexed 9984 samples in 0.001s...\n",
      "[t-SNE] Computed neighbors for 9984 samples in 2.476s...\n",
      "[t-SNE] Computed conditional probabilities for sample 1000 / 9984\n",
      "[t-SNE] Computed conditional probabilities for sample 2000 / 9984\n",
      "[t-SNE] Computed conditional probabilities for sample 3000 / 9984\n",
      "[t-SNE] Computed conditional probabilities for sample 4000 / 9984\n",
      "[t-SNE] Computed conditional probabilities for sample 5000 / 9984\n",
      "[t-SNE] Computed conditional probabilities for sample 6000 / 9984\n",
      "[t-SNE] Computed conditional probabilities for sample 7000 / 9984\n",
      "[t-SNE] Computed conditional probabilities for sample 8000 / 9984\n",
      "[t-SNE] Computed conditional probabilities for sample 9000 / 9984\n",
      "[t-SNE] Computed conditional probabilities for sample 9984 / 9984\n",
      "[t-SNE] Mean sigma: 2.246461\n",
      "[t-SNE] KL divergence after 250 iterations with early exaggeration: 85.178490\n",
      "[t-SNE] KL divergence after 1000 iterations: 1.723232\n"
     ]
    },
    {
     "name": "stderr",
     "output_type": "stream",
     "text": [
      "78it [00:06, 12.84it/s]\n"
     ]
    },
    {
     "name": "stdout",
     "output_type": "stream",
     "text": [
      "[t-SNE] Computing 91 nearest neighbors...\n",
      "[t-SNE] Indexed 9984 samples in 0.001s...\n",
      "[t-SNE] Computed neighbors for 9984 samples in 2.416s...\n",
      "[t-SNE] Computed conditional probabilities for sample 1000 / 9984\n",
      "[t-SNE] Computed conditional probabilities for sample 2000 / 9984\n",
      "[t-SNE] Computed conditional probabilities for sample 3000 / 9984\n",
      "[t-SNE] Computed conditional probabilities for sample 4000 / 9984\n",
      "[t-SNE] Computed conditional probabilities for sample 5000 / 9984\n",
      "[t-SNE] Computed conditional probabilities for sample 6000 / 9984\n",
      "[t-SNE] Computed conditional probabilities for sample 7000 / 9984\n",
      "[t-SNE] Computed conditional probabilities for sample 8000 / 9984\n",
      "[t-SNE] Computed conditional probabilities for sample 9000 / 9984\n",
      "[t-SNE] Computed conditional probabilities for sample 9984 / 9984\n",
      "[t-SNE] Mean sigma: 2.130804\n",
      "[t-SNE] KL divergence after 250 iterations with early exaggeration: 84.662788\n",
      "[t-SNE] KL divergence after 1000 iterations: 1.696154\n"
     ]
    },
    {
     "name": "stderr",
     "output_type": "stream",
     "text": [
      "78it [00:06, 12.87it/s]\n"
     ]
    },
    {
     "name": "stdout",
     "output_type": "stream",
     "text": [
      "[t-SNE] Computing 91 nearest neighbors...\n",
      "[t-SNE] Indexed 9984 samples in 0.001s...\n",
      "[t-SNE] Computed neighbors for 9984 samples in 2.703s...\n",
      "[t-SNE] Computed conditional probabilities for sample 1000 / 9984\n",
      "[t-SNE] Computed conditional probabilities for sample 2000 / 9984\n",
      "[t-SNE] Computed conditional probabilities for sample 3000 / 9984\n",
      "[t-SNE] Computed conditional probabilities for sample 4000 / 9984\n",
      "[t-SNE] Computed conditional probabilities for sample 5000 / 9984\n",
      "[t-SNE] Computed conditional probabilities for sample 6000 / 9984\n",
      "[t-SNE] Computed conditional probabilities for sample 7000 / 9984\n",
      "[t-SNE] Computed conditional probabilities for sample 8000 / 9984\n",
      "[t-SNE] Computed conditional probabilities for sample 9000 / 9984\n",
      "[t-SNE] Computed conditional probabilities for sample 9984 / 9984\n",
      "[t-SNE] Mean sigma: 2.125440\n",
      "[t-SNE] KL divergence after 250 iterations with early exaggeration: 84.499260\n",
      "[t-SNE] KL divergence after 1000 iterations: 1.680868\n"
     ]
    },
    {
     "name": "stderr",
     "output_type": "stream",
     "text": [
      "78it [00:06, 11.63it/s]\n"
     ]
    },
    {
     "name": "stdout",
     "output_type": "stream",
     "text": [
      "[t-SNE] Computing 91 nearest neighbors...\n",
      "[t-SNE] Indexed 9984 samples in 0.001s...\n",
      "[t-SNE] Computed neighbors for 9984 samples in 2.478s...\n",
      "[t-SNE] Computed conditional probabilities for sample 1000 / 9984\n",
      "[t-SNE] Computed conditional probabilities for sample 2000 / 9984\n",
      "[t-SNE] Computed conditional probabilities for sample 3000 / 9984\n",
      "[t-SNE] Computed conditional probabilities for sample 4000 / 9984\n",
      "[t-SNE] Computed conditional probabilities for sample 5000 / 9984\n",
      "[t-SNE] Computed conditional probabilities for sample 6000 / 9984\n",
      "[t-SNE] Computed conditional probabilities for sample 7000 / 9984\n",
      "[t-SNE] Computed conditional probabilities for sample 8000 / 9984\n",
      "[t-SNE] Computed conditional probabilities for sample 9000 / 9984\n",
      "[t-SNE] Computed conditional probabilities for sample 9984 / 9984\n",
      "[t-SNE] Mean sigma: 2.015352\n",
      "[t-SNE] KL divergence after 250 iterations with early exaggeration: 84.123993\n",
      "[t-SNE] KL divergence after 1000 iterations: 1.649130\n"
     ]
    },
    {
     "name": "stderr",
     "output_type": "stream",
     "text": [
      "78it [00:07, 10.04it/s]\n"
     ]
    },
    {
     "name": "stdout",
     "output_type": "stream",
     "text": [
      "[t-SNE] Computing 91 nearest neighbors...\n",
      "[t-SNE] Indexed 9984 samples in 0.001s...\n",
      "[t-SNE] Computed neighbors for 9984 samples in 2.515s...\n",
      "[t-SNE] Computed conditional probabilities for sample 1000 / 9984\n",
      "[t-SNE] Computed conditional probabilities for sample 2000 / 9984\n",
      "[t-SNE] Computed conditional probabilities for sample 3000 / 9984\n",
      "[t-SNE] Computed conditional probabilities for sample 4000 / 9984\n",
      "[t-SNE] Computed conditional probabilities for sample 5000 / 9984\n",
      "[t-SNE] Computed conditional probabilities for sample 6000 / 9984\n",
      "[t-SNE] Computed conditional probabilities for sample 7000 / 9984\n",
      "[t-SNE] Computed conditional probabilities for sample 8000 / 9984\n",
      "[t-SNE] Computed conditional probabilities for sample 9000 / 9984\n",
      "[t-SNE] Computed conditional probabilities for sample 9984 / 9984\n",
      "[t-SNE] Mean sigma: 1.922931\n",
      "[t-SNE] KL divergence after 250 iterations with early exaggeration: 83.512871\n",
      "[t-SNE] KL divergence after 1000 iterations: 1.617695\n"
     ]
    },
    {
     "name": "stderr",
     "output_type": "stream",
     "text": [
      "78it [00:08,  9.59it/s]\n"
     ]
    },
    {
     "name": "stdout",
     "output_type": "stream",
     "text": [
      "[t-SNE] Computing 91 nearest neighbors...\n",
      "[t-SNE] Indexed 9984 samples in 0.001s...\n",
      "[t-SNE] Computed neighbors for 9984 samples in 2.665s...\n",
      "[t-SNE] Computed conditional probabilities for sample 1000 / 9984\n",
      "[t-SNE] Computed conditional probabilities for sample 2000 / 9984\n",
      "[t-SNE] Computed conditional probabilities for sample 3000 / 9984\n",
      "[t-SNE] Computed conditional probabilities for sample 4000 / 9984\n",
      "[t-SNE] Computed conditional probabilities for sample 5000 / 9984\n",
      "[t-SNE] Computed conditional probabilities for sample 6000 / 9984\n",
      "[t-SNE] Computed conditional probabilities for sample 7000 / 9984\n",
      "[t-SNE] Computed conditional probabilities for sample 8000 / 9984\n",
      "[t-SNE] Computed conditional probabilities for sample 9000 / 9984\n",
      "[t-SNE] Computed conditional probabilities for sample 9984 / 9984\n",
      "[t-SNE] Mean sigma: 1.786858\n",
      "[t-SNE] KL divergence after 250 iterations with early exaggeration: 83.595497\n",
      "[t-SNE] KL divergence after 1000 iterations: 1.625154\n"
     ]
    },
    {
     "name": "stderr",
     "output_type": "stream",
     "text": [
      "78it [00:07,  9.95it/s]\n"
     ]
    },
    {
     "name": "stdout",
     "output_type": "stream",
     "text": [
      "[t-SNE] Computing 91 nearest neighbors...\n",
      "[t-SNE] Indexed 9984 samples in 0.001s...\n",
      "[t-SNE] Computed neighbors for 9984 samples in 2.520s...\n",
      "[t-SNE] Computed conditional probabilities for sample 1000 / 9984\n",
      "[t-SNE] Computed conditional probabilities for sample 2000 / 9984\n",
      "[t-SNE] Computed conditional probabilities for sample 3000 / 9984\n",
      "[t-SNE] Computed conditional probabilities for sample 4000 / 9984\n",
      "[t-SNE] Computed conditional probabilities for sample 5000 / 9984\n",
      "[t-SNE] Computed conditional probabilities for sample 6000 / 9984\n",
      "[t-SNE] Computed conditional probabilities for sample 7000 / 9984\n",
      "[t-SNE] Computed conditional probabilities for sample 8000 / 9984\n",
      "[t-SNE] Computed conditional probabilities for sample 9000 / 9984\n",
      "[t-SNE] Computed conditional probabilities for sample 9984 / 9984\n",
      "[t-SNE] Mean sigma: 1.745502\n",
      "[t-SNE] KL divergence after 250 iterations with early exaggeration: 83.891327\n"
     ]
    }
   ],
   "source": [
    "for epoch in range(0, 200, 10):\n",
    "    model_path = f'result/{config[\"output_folder\"]}/flow_{str(epoch).zfill(2)}.pt'\n",
    "    encoder_path = f'result/{config[\"output_folder\"]}/encoder_{str(epoch).zfill(2)}.pt'\n",
    "    trainer.load(model_path)\n",
    "    trainer.load_encoder(encoder_path)\n",
    "    _, target_val, _, _, condition_feature_val  = trainer.sampling(trainer.val_loader, MC_sample, mean, std)\n",
    "    X_embedded = TSNE(n_components=2, verbose=1, init='random').fit_transform(condition_feature_val.numpy())\n",
    "    scatter(X_embedded, target_val.numpy())\n",
    "    path = f'./result/{config[\"output_folder\"]}/img/digits_tsne-generated_{epoch}.png'\n",
    "    plt.savefig(path, dpi=120)"
   ]
  },
  {
   "cell_type": "markdown",
   "id": "swiss-recall",
   "metadata": {},
   "source": [
    "# read folder file list"
   ]
  },
  {
   "cell_type": "code",
   "execution_count": null,
   "id": "naked-hardware",
   "metadata": {},
   "outputs": [],
   "source": [
    "from os import walk\n",
    "\n",
    "filenames = next(walk(mypath), (None, None, []))[2]  # [] if no file"
   ]
  },
  {
   "cell_type": "markdown",
   "id": "sustainable-measure",
   "metadata": {},
   "source": [
    "# image to git"
   ]
  },
  {
   "cell_type": "code",
   "execution_count": null,
   "id": "above-pricing",
   "metadata": {},
   "outputs": [],
   "source": [
    "import imageio\n",
    "images = []\n",
    "for filename in filenames:\n",
    "    images.append(imageio.imread(filename))\n",
    "imageio.mimsave('/path/to/movie.gif', images)"
   ]
  }
 ],
 "metadata": {
  "kernelspec": {
   "display_name": "Python 3",
   "language": "python",
   "name": "python3"
  },
  "language_info": {
   "codemirror_mode": {
    "name": "ipython",
    "version": 3
   },
   "file_extension": ".py",
   "mimetype": "text/x-python",
   "name": "python",
   "nbconvert_exporter": "python",
   "pygments_lexer": "ipython3",
   "version": "3.7.10"
  }
 },
 "nbformat": 4,
 "nbformat_minor": 5
}
